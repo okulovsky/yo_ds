{
 "cells": [
  {
   "cell_type": "markdown",
   "metadata": {},
   "source": [
    "# Fluent plot examples"
   ]
  },
  {
   "cell_type": "code",
   "execution_count": 1,
   "metadata": {},
   "outputs": [],
   "source": [
    "from yo_ds__tests.common import *\n",
    "class TestCase:\n",
    "    pass\n",
    "import seaborn\n",
    "import math\n",
    "\n",
    "class TestFluentPlot(TestCase):\n",
    "    def test_1_simple(self):\n",
    "        df = Query.en(range(10)).select(lambda z: Obj(x=z,y=z*z)).to_dataframe()\n",
    "        return df.feed(FluentPlot().call_ax(lambda z: z.plot).args(df.x,df.y).labels('Simplest fluent plot'))\n",
    "\n",
    "    def test_2_3rdparty(self):\n",
    "        df = Query.combinatorics.grid(x=range(5),y=range(5)).select(lambda z: z.update(z=z.x+z.y)).to_dataframe().pivot_table(columns='x',index='y',values='z')\n",
    "        return df.feed(FluentPlot().call(seaborn.heatmap).args(data=df).labels('Fluent plot over 3rd party member from seaborn'))\n",
    "\n",
    "    def test_3_tuning(self):\n",
    "        df = Query.en(range(10)).select(lambda z: Obj(x=z, y=z * z)).to_dataframe()\n",
    "        return df.feed(FluentPlot()\n",
    "                       .call_ax(lambda z: z.plot)\n",
    "                       .args(df.x,df.y,label='test')\n",
    "                       .labels('Plot with cosmetic tuning','X axis','Y axis')\n",
    "                       .with_legend()\n",
    "                       .tune(lambda ax: ax.tick_params(axis='x', rotation=45))\n",
    "                       )\n",
    "\n",
    "\n",
    "    def test_4_groupby_plot(self):\n",
    "        df = Query.combinatorics.grid(a=range(5),x=range(10)).select(lambda z: z.update(y=z.x*z.a)).to_dataframe()\n",
    "        return df.groupby('a').feed(FluentPlot()\n",
    "                                    .call_ax(lambda z: z.plot)\n",
    "                                    .args(lambda gr: gr[1].x, lambda gr: gr[1].y, label = lambda gr: gr[0])\n",
    "                                    .labels('Plot built for groupby')\n",
    "                                    .iterate()\n",
    "                                    .with_legend())\n",
    "\n",
    "\n",
    "    def test_5_df_columns_plot(self):\n",
    "        df = Query.combinatorics.grid(x=range(5), y=range(5)).select(lambda z: z.update(z=z.x + z.y)).to_dataframe().pivot_table(columns='x', index='y', values='z')\n",
    "        return df.feed(FluentPlot()\n",
    "                       .call_ax(lambda z: z.plot)\n",
    "                       .args(lambda z: z.index, lambda z: z, label = lambda z: z.name)\n",
    "                       .iterate_df_columns()\n",
    "                       .labels('Plot build for dataframe columns')\n",
    "                       .with_legend())\n",
    "\n",
    "\n",
    "    def test_6_plots_on_different_axes(self):\n",
    "        df = Query.en(range(10)).select(lambda z: Obj(x=z, pow=z*z, sqrt=math.sqrt(z))).to_dataframe().set_index('x')\n",
    "        (Query\n",
    "         .en(df.columns)\n",
    "         .feed(fluq.with_plots(columns=2))\n",
    "         .foreach(lambda p: df[p.item].feed(FluentPlot()\n",
    "                                            .call_ax(lambda ax: ax.plot)\n",
    "                                            .args(lambda z: z.index, lambda z: z)\n",
    "                                            .on(p.ax)\n",
    "                                            )))\n",
    "\n",
    "    def test_7_plot_from_series(self):\n",
    "        series = pd.Series([5,4,3,2,1])\n",
    "        series.feed(FluentPlot().call_obj(lambda obj: obj.plot).args().size(20,10))\n",
    "\n",
    "\n",
    "    def test_8_plot_from_df(self):\n",
    "        df = Query.en(range(10)).select(lambda z: Obj(x=z, pow=z * z, sqrt=math.sqrt(z))).to_dataframe().set_index('x')\n",
    "        df.feed(FluentPlot().call_obj(lambda z: z.plot).args().iterate_df_columns())\n",
    "tc = TestFluentPlot()"
   ]
  },
  {
   "cell_type": "code",
   "execution_count": 1,
   "metadata": {},
   "outputs": [],
   "source": "tc.test_1_simple()"
  },
  {
   "cell_type": "code",
   "execution_count": 1,
   "metadata": {},
   "outputs": [],
   "source": "tc.test_2_3rdparty()"
  },
  {
   "cell_type": "code",
   "execution_count": 1,
   "metadata": {},
   "outputs": [],
   "source": "tc.test_3_tuning()"
  },
  {
   "cell_type": "code",
   "execution_count": 1,
   "metadata": {},
   "outputs": [],
   "source": "tc.test_4_groupby_plot()"
  },
  {
   "cell_type": "code",
   "execution_count": 1,
   "metadata": {},
   "outputs": [],
   "source": "tc.test_5_df_columns_plot()"
  },
  {
   "cell_type": "code",
   "execution_count": 1,
   "metadata": {},
   "outputs": [],
   "source": "tc.test_6_plots_on_different_axes()"
  },
  {
   "cell_type": "code",
   "execution_count": 1,
   "metadata": {},
   "outputs": [],
   "source": "tc.test_7_plot_from_series()"
  },
  {
   "cell_type": "code",
   "execution_count": 1,
   "metadata": {},
   "outputs": [],
   "source": "tc.test_8_plot_from_df()"
  },
  {
   "cell_type": "markdown",
   "metadata": {},
   "source": [
    "# GRBAR plot examples"
   ]
  },
  {
   "cell_type": "code",
   "execution_count": 1,
   "metadata": {},
   "outputs": [],
   "source": [
    "from yo_ds__tests.common import *\n",
    "class TestCase:\n",
    "    pass\n",
    "\n",
    "def _get_df():\n",
    "    df = Query.combinatorics.grid(x=range(5), a=range(5)).select(lambda z: z.update(y=z.x + z.a, err=z.a/2)).to_dataframe()\n",
    "    return df\n",
    "\n",
    "class TestGrBar(TestCase):\n",
    "    def test_1_simple(self):\n",
    "        df = _get_df()\n",
    "        grbar_plot(df,'y','a','x')\n",
    "\n",
    "    def test_2_error(self): # TODO: does not work\n",
    "        df = _get_df()\n",
    "        grbar_plot(df,'y','a','x','err')\n",
    "\n",
    "\n",
    "    def test_3_value_caption(self):\n",
    "        df = _get_df()\n",
    "        grbar_plot(df,'y','a','x','err',value_format='{0:.2f}\u00b1{1:.2f}')\n",
    "\n",
    "    def test_4_custom_caption(self):\n",
    "        df = _get_df()\n",
    "        df = df.assign(caption=df.y)\n",
    "        grbar_plot(df,'y','a','x',None,'caption')\n",
    "\n",
    "\n",
    "    def test_5_witout_groups(self):\n",
    "        df= _get_df()\n",
    "        df = df.loc[df.a==1]\n",
    "        grbar_plot(df,'y','x',None)\n",
    "\n",
    "    def test_6_without_colors(self):\n",
    "        df = _get_df()\n",
    "        df = df.loc[df.a==1]\n",
    "        grbar_plot(df,'y',None,'x')\n",
    "\n",
    "    def test_7_orient_h(self):\n",
    "        df = _get_df()\n",
    "        grbar_plot(df,'y','a','x',orient='h')\n",
    "tc = TestGrBar()"
   ]
  },
  {
   "cell_type": "code",
   "execution_count": 1,
   "metadata": {},
   "outputs": [],
   "source": "tc.test_1_simple()"
  },
  {
   "cell_type": "code",
   "execution_count": 1,
   "metadata": {},
   "outputs": [],
   "source": "tc.test_2_error()"
  },
  {
   "cell_type": "code",
   "execution_count": 1,
   "metadata": {},
   "outputs": [],
   "source": "tc.test_3_value_caption()"
  },
  {
   "cell_type": "code",
   "execution_count": 1,
   "metadata": {},
   "outputs": [],
   "source": "tc.test_4_custom_caption()"
  },
  {
   "cell_type": "code",
   "execution_count": 1,
   "metadata": {},
   "outputs": [],
   "source": "tc.test_5_witout_groups()"
  },
  {
   "cell_type": "code",
   "execution_count": 1,
   "metadata": {},
   "outputs": [],
   "source": "tc.test_6_without_colors()"
  },
  {
   "cell_type": "code",
   "execution_count": 1,
   "metadata": {},
   "outputs": [],
   "source": "tc.test_7_orient_h()"
  },
  {
   "cell_type": "markdown",
   "metadata": {},
   "source": [
    "# Other plots examples"
   ]
  },
  {
   "cell_type": "code",
   "execution_count": 1,
   "metadata": {},
   "outputs": [],
   "source": [
    "from yo_ds__tests.common import *\n",
    "class TestCase:\n",
    "    pass\n",
    "\n",
    "class TestOtherPlots(TestCase):\n",
    "    def test_pie(self):\n",
    "        series = Query.en(range(1,5)).to_series()\n",
    "        pie_plot(series)\n",
    "\n",
    "    def test_roc_auc(self):\n",
    "        true = [0,0,0,0,0,1,1,1]\n",
    "        pred = [0.1,0.3,0.5,0.7,0.4,0.6,0.8, 0.8]\n",
    "        return roc_plot(true,pred)\n",
    "tc = TestOtherPlots()"
   ]
  },
  {
   "cell_type": "code",
   "execution_count": 1,
   "metadata": {},
   "outputs": [],
   "source": "tc.test_pie()"
  },
  {
   "cell_type": "code",
   "execution_count": 1,
   "metadata": {},
   "outputs": [],
   "source": "tc.test_roc_auc()"
  }
 ],
 "metadata": {
  "kernelspec": {
   "display_name": "Python 3",
   "language": "python",
   "name": "python3"
  },
  "language_info": {
   "codemirror_mode": {
    "name": "ipython",
    "version": 3
   },
   "file_extension": ".py",
   "mimetype": "text/x-python",
   "name": "python",
   "nbconvert_exporter": "python",
   "pygments_lexer": "ipython3",
   "version": "3.6.7"
  }
 },
 "nbformat": 4,
 "nbformat_minor": 2
}